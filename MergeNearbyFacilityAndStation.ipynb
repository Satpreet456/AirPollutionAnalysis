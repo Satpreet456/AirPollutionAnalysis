{
 "cells": [
  {
   "cell_type": "code",
   "execution_count": null,
   "metadata": {},
   "outputs": [],
   "source": [
    "import math\n",
    "\n",
    "#Function to calculate distance between two cordinates\n",
    "def retrieveDistanceBetweenCordinates(stationCode, lat1, long1, lat2, long2):\n",
    "    degreeToRadian = math.pi / 180.0\n",
    "    latDiff = (lat2 - lat1) * degreeToRadian\n",
    "    longDiff = (long2 - long1) * degreeToRadian\n",
    "    a = math.pow(math.sin((latDiff / 2.0)), 2) + math.cos(lat1 * degreeToRadian) * math.cos(lat2 * degreeToRadian) * math.pow((math.sin(longDiff/2.0)), 2)\n",
    "    c = 2 * math.atan2(math.sqrt(a), math.sqrt(1-a))\n",
    "    d = 6367 * c\n",
    "    \n",
    "    return pd.Series([stationCode, d])"
   ]
  },
  {
   "cell_type": "code",
   "execution_count": null,
   "metadata": {},
   "outputs": [],
   "source": [
    "#Read pollutant release data-sets\n",
    "\n",
    "os.chdir('E:/Research/Datasets/Pollutant emissions data/E-PRTR_database_v16_csv')\n",
    "pollutant_release = pd.read_csv('dbo.PUBLISH_POLLUTANTRELEASE.csv')\n",
    "pollutant_release_report_transfer = pd.read_csv('dbo.PUBLISH_POLLUTANTRELEASEANDTRANSFERREPORT.csv')\n",
    "pollutant_release_report = pd.read_csv('dbo.PUBLISH_FACILITYREPORT.csv', encoding = \"ISO-8859-1\")\n",
    "#Merge polutant release report dataset with polutant release and transfer dataset to add reporting year\n",
    "pollutant_release_report =  pd.merge(pollutant_release_report[['FacilityReportID','PollutantReleaseAndTransferReportID', 'FacilityID']], pollutant_release_report_transfer[['PollutantReleaseAndTransferReportID', 'ReportingYear']], on='PollutantReleaseAndTransferReportID')\n",
    "#Merge the above dataset with pollutant release dataset to populate repoting year and facility ids\n",
    "pollutant_release = pd.merge(pollutant_release, pollutant_release_report[['FacilityReportID', 'FacilityID', 'ReportingYear']], on='FacilityReportID')\n",
    "#Drop unneccessary columns\n",
    "pollutant_release.drop(['ConfidentialIndicator', 'ConfidentialityReasonCode', 'ConfidentialityReasonName'], inplace=True, axis=1)\n",
    "#Filter out data reported before 2012 and non AIR pollutant release\n",
    "pollutant_release = pollutant_release.loc[(pollutant_release['ReportingYear'] >= 2013) & (pollutant_release['ReleaseMediumCode'] == 'AIR')]\n",
    "\n",
    "#Filter out duplicates and countries not present in air quality dataset\n",
    "reporting_facilities = facilities[['FacilityID', 'Lat', 'Long', 'CountryName']].drop_duplicates('FacilityID')\n",
    "reporting_facilities = reporting_facilities.loc[reporting_facilities[\"CountryName\"].isin(airQualityStationsMeanReadings[\"CountryName\"].unique())]\n",
    "reporting_facilities = reporting_facilities.loc[reporting_facilities['FacilityID'].isin(pollutant_release['FacilityID'].unique())]"
   ]
  },
  {
   "cell_type": "code",
   "execution_count": null,
   "metadata": {},
   "outputs": [],
   "source": [
    "#script to polpulate nearby air quality station to facility for each pollutant \n",
    "import time\n",
    "start = time.process_time()\n",
    "locationMergeDataset = []\n",
    "years = [2017, 2013, 2014, 2015, 2016]\n",
    "polutants = [\"SO2\", \"C6H6\", \"CO\", \"PM10\", \"PM2.5\", \"O3\"]\n",
    "#Function to extract nearest station reporting air quality for pollutant release facility\n",
    "def extractNearestStation(row):\n",
    "    #filter country wise to limit all data processing\n",
    "    country_stations = airQualityStationsMeanReadings[airQualityStationsMeanReadings['CountryName'] == row['CountryName']]\n",
    "    if country_stations.shape[0] > 0:\n",
    "        for year in years:\n",
    "            yearRecord = {}\n",
    "            yearRecord['Year'] = year\n",
    "            yearRecord['FacilityID'] = row['FacilityID']\n",
    "            yearRecord['CountryName'] = row['CountryName']\n",
    "            #Filter for processing year\n",
    "            allPolutantStations = country_stations.loc[country_stations['Year'] == year]\n",
    "            #Find distance from all air quality stations\n",
    "            distanceMatrix = allPolutantStations.apply(lambda x: retrieveDistanceBetweenCordinates(x['AirQualityStationEoICode'], row['Lat'], row['Long'], x['Latitude'], x['Longitude']), axis=1)\n",
    "            distanceMatrix.rename(columns={0:'NearestStationEoICode', 1:'Distance'},inplace=True)\n",
    "            for polutant in polutants:\n",
    "                requiredStations = allPolutantStations.loc[allPolutantStations[polutant].notna()]\n",
    "                if requiredStations.shape[0] > 0:\n",
    "                    #Find the stations which have concentration of pollutant for the processing year populated\n",
    "                    requiredStationsDistance = distanceMatrix.loc[distanceMatrix['NearestStationEoICode'].isin(requiredStations[\"AirQualityStationEoICode\"].unique())]\n",
    "                    #Store the one with minimum distance\n",
    "                    nearest_station = requiredStationsDistance.loc[(requiredStationsDistance['Distance'].idxmin())]\n",
    "                    yearRecord[polutant] = nearest_station[0]\n",
    "                    yearRecord[\"Dist_\" + polutant] = nearest_station[1]\n",
    "                else:\n",
    "                    yearRecord[polutant] = float('nan')\n",
    "                    yearRecord[\"Dist_\" + polutant] = float('nan')\n",
    "            locationMergeDataset.append(yearRecord)\n",
    "                \n",
    "reporting_facilities.apply(lambda x: extractNearestStation(x), axis=1)\n",
    "facilities_nearby_stations = pd.DataFrame(locationMergeDataset)\n",
    "facilities_nearby_stations.to_csv(\"E:/Research/Processing Datasets/Facility_Nearby_Station_Dataset.csv\", index = False)\n",
    "print(\"Completed Facility-Staion merge in \", time.process_time() - start)\n"
   ]
  }
 ],
 "metadata": {
  "kernelspec": {
   "display_name": "Python 3",
   "language": "python",
   "name": "python3"
  },
  "language_info": {
   "codemirror_mode": {
    "name": "ipython",
    "version": 3
   },
   "file_extension": ".py",
   "mimetype": "text/x-python",
   "name": "python",
   "nbconvert_exporter": "python",
   "pygments_lexer": "ipython3",
   "version": "3.7.1"
  }
 },
 "nbformat": 4,
 "nbformat_minor": 2
}
